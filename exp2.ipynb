{
 "cells": [
  {
   "cell_type": "code",
   "execution_count": 2,
   "metadata": {},
   "outputs": [],
   "source": [
    "import pandas as pd\n",
    "import numpy as np\n",
    "import matplotlib.pyplot as pyplot\n",
    "import cv2"
   ]
  },
  {
   "cell_type": "code",
   "execution_count": 5,
   "metadata": {},
   "outputs": [],
   "source": [
    "import tensorflow as tf\n",
    "from tensorflow import keras\n",
    "from keras.models import Model, load_model\n",
    "from keras.applications.vgg16 import preprocess_input,decode_predictions,VGG16\n",
    "from keras.preprocessing.image import ImageDataGenerator\n",
    "from keras.layers import Dense, GlobalAveragePooling2D,Input\n",
    "from keras.optimizers import Adam\n",
    "from keras.utils import load_img, img_to_array"
   ]
  },
  {
   "cell_type": "code",
   "execution_count": 8,
   "metadata": {},
   "outputs": [
    {
     "name": "stdout",
     "output_type": "stream",
     "text": [
      "Found 44 images belonging to 2 classes.\n"
     ]
    }
   ],
   "source": [
    "train_datagen=ImageDataGenerator(preprocessing_function=preprocess_input)\n",
    "train_generator=train_datagen.flow_from_directory(\"D:/dl exps/dataset ex-2/train\",target_size=(224,224),color_mode='rgb',batch_size=32,class_mode=\"categorical\",shuffle=True)"
   ]
  },
  {
   "cell_type": "code",
   "execution_count": 10,
   "metadata": {},
   "outputs": [
    {
     "name": "stdout",
     "output_type": "stream",
     "text": [
      "2\n"
     ]
    },
    {
     "data": {
      "text/plain": [
       "dict_values([0, 1])"
      ]
     },
     "execution_count": 10,
     "metadata": {},
     "output_type": "execute_result"
    }
   ],
   "source": [
    "classes_num=len(train_generator.class_indices.values())\n",
    "print(classes_num)\n",
    "train_generator.class_indices.values()"
   ]
  },
  {
   "cell_type": "code",
   "execution_count": 12,
   "metadata": {},
   "outputs": [
    {
     "name": "stdout",
     "output_type": "stream",
     "text": [
      "Downloading data from https://storage.googleapis.com/tensorflow/keras-applications/vgg16/vgg16_weights_tf_dim_ordering_tf_kernels_notop.h5\n",
      "58889256/58889256 [==============================] - 11s 0us/step\n"
     ]
    }
   ],
   "source": [
    "model=VGG16(include_top=False,input_shape=(224,224,3))\n",
    "x=model.output\n",
    "x=GlobalAveragePooling2D()(x)\n",
    "x=Dense(1024,activation='relu')(x)\n",
    "x=Dense(1024,activation=\"relu\")(x)\n",
    "x=Dense(512,activation=\"relu\")(x)\n",
    "preds=Dense(classes_num,activation=\"softmax\")(x)\n",
    "model=Model(model.input,preds)\n",
    "for layer in model.layers[:19]:\n",
    "    layer.trainable=False\n",
    "for layer in model.layers[19:]:\n",
    "    model.trainable=True"
   ]
  },
  {
   "cell_type": "code",
   "execution_count": 13,
   "metadata": {},
   "outputs": [],
   "source": [
    "model.compile(loss=\"categorical_crossentropy\",optimizer=\"Adam\",metrics=[\"accuracy\"])"
   ]
  },
  {
   "cell_type": "code",
   "execution_count": 14,
   "metadata": {},
   "outputs": [
    {
     "name": "stdout",
     "output_type": "stream",
     "text": [
      "Epoch 1/20\n",
      "2/2 [==============================] - 51s 28s/step - loss: 1.3074 - accuracy: 0.7273\n",
      "Epoch 2/20\n",
      "2/2 [==============================] - 1s 296ms/step - loss: 0.0000e+00 - accuracy: 1.0000\n",
      "Epoch 3/20\n",
      "2/2 [==============================] - 1s 752ms/step - loss: 0.0000e+00 - accuracy: 1.0000\n",
      "Epoch 4/20\n",
      "2/2 [==============================] - 1s 296ms/step - loss: 0.0000e+00 - accuracy: 1.0000\n",
      "Epoch 5/20\n",
      "2/2 [==============================] - 1s 744ms/step - loss: 0.0000e+00 - accuracy: 1.0000\n",
      "Epoch 6/20\n",
      "2/2 [==============================] - 1s 288ms/step - loss: 0.0000e+00 - accuracy: 1.0000\n",
      "Epoch 7/20\n",
      "2/2 [==============================] - 1s 304ms/step - loss: 0.0000e+00 - accuracy: 1.0000\n",
      "Epoch 8/20\n",
      "2/2 [==============================] - 1s 296ms/step - loss: 0.0000e+00 - accuracy: 1.0000\n",
      "Epoch 9/20\n",
      "2/2 [==============================] - 1s 760ms/step - loss: 0.0000e+00 - accuracy: 1.0000\n",
      "Epoch 10/20\n",
      "2/2 [==============================] - 1s 760ms/step - loss: 0.0000e+00 - accuracy: 1.0000\n",
      "Epoch 11/20\n",
      "2/2 [==============================] - 1s 296ms/step - loss: 0.0000e+00 - accuracy: 1.0000\n",
      "Epoch 12/20\n",
      "2/2 [==============================] - 1s 296ms/step - loss: 0.0000e+00 - accuracy: 1.0000\n",
      "Epoch 13/20\n",
      "2/2 [==============================] - 1s 296ms/step - loss: 0.0000e+00 - accuracy: 1.0000\n",
      "Epoch 14/20\n",
      "2/2 [==============================] - 1s 296ms/step - loss: 0.0000e+00 - accuracy: 1.0000\n",
      "Epoch 15/20\n",
      "2/2 [==============================] - 1s 296ms/step - loss: 0.0000e+00 - accuracy: 1.0000\n",
      "Epoch 16/20\n",
      "2/2 [==============================] - 1s 757ms/step - loss: 0.0000e+00 - accuracy: 1.0000\n",
      "Epoch 17/20\n",
      "2/2 [==============================] - 1s 304ms/step - loss: 0.0000e+00 - accuracy: 1.0000\n",
      "Epoch 18/20\n",
      "2/2 [==============================] - 1s 306ms/step - loss: 0.0000e+00 - accuracy: 1.0000\n",
      "Epoch 19/20\n",
      "2/2 [==============================] - 1s 296ms/step - loss: 0.0000e+00 - accuracy: 1.0000\n",
      "Epoch 20/20\n",
      "2/2 [==============================] - 1s 296ms/step - loss: 0.0000e+00 - accuracy: 1.0000\n"
     ]
    },
    {
     "data": {
      "text/plain": [
       "<keras.callbacks.History at 0x1b794d71270>"
      ]
     },
     "execution_count": 14,
     "metadata": {},
     "output_type": "execute_result"
    }
   ],
   "source": [
    "model.fit(x=train_generator,batch_size=1,verbose=1,epochs=20)"
   ]
  },
  {
   "cell_type": "code",
   "execution_count": 15,
   "metadata": {},
   "outputs": [],
   "source": [
    "class_dict={0:\"Cat\",1:\"Dog\"}\n",
    "imgg=cv2.imread(\"F:/Downloads/doggy.jpg\",cv2.IMREAD_UNCHANGED)\n",
    "size=(224,224)\n",
    "imgg=cv2.resize(imgg,size)\n",
    "x=imgg\n",
    "x=np.expand_dims(x,axis=0)\n",
    "x=tf.keras.applications.imagenet_utils.preprocess_input(x)"
   ]
  },
  {
   "cell_type": "code",
   "execution_count": 22,
   "metadata": {},
   "outputs": [
    {
     "name": "stdout",
     "output_type": "stream",
     "text": [
      "1/1 [==============================] - 0s 35ms/step\n",
      "[[0. 1.]]\n",
      "Dog\n"
     ]
    }
   ],
   "source": [
    "cv2.imshow(\"image\",imgg)\n",
    "cv2.waitKey(0)  # This is necessary to display the image until a key is pressed\n",
    "pred_prob=model.predict(x)\n",
    "print(pred_prob)\n",
    "print(class_dict[pred_prob[0].argmax()])"
   ]
  },
  {
   "cell_type": "code",
   "execution_count": null,
   "metadata": {},
   "outputs": [],
   "source": []
  }
 ],
 "metadata": {
  "kernelspec": {
   "display_name": "newenv",
   "language": "python",
   "name": "python3"
  },
  "language_info": {
   "codemirror_mode": {
    "name": "ipython",
    "version": 3
   },
   "file_extension": ".py",
   "mimetype": "text/x-python",
   "name": "python",
   "nbconvert_exporter": "python",
   "pygments_lexer": "ipython3",
   "version": "3.10.12"
  }
 },
 "nbformat": 4,
 "nbformat_minor": 2
}
