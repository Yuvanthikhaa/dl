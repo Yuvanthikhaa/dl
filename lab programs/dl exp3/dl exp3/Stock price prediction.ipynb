{
 "cells": [
  {
   "cell_type": "code",
   "execution_count": 2,
   "id": "494e9e3b",
   "metadata": {},
   "outputs": [],
   "source": [
    "import pandas as pd\n",
    "import numpy as np\n",
    "\n",
    "import matplotlib.pyplot as plt\n",
    "from sklearn.preprocessing import MinMaxScaler\n",
    "from keras.models import Sequential\n",
    "from keras.layers import Dense, Dropout, LSTM, Bidirectional"
   ]
  },
  {
   "cell_type": "code",
   "execution_count": 3,
   "id": "54a736f5",
   "metadata": {},
   "outputs": [],
   "source": [
    "google_stock_data = pd.read_csv(\"GOOG.csv\")"
   ]
  },
  {
   "cell_type": "code",
   "execution_count": 4,
   "id": "9b6c9c36",
   "metadata": {},
   "outputs": [
    {
     "name": "stdout",
     "output_type": "stream",
     "text": [
      "<class 'pandas.core.frame.DataFrame'>\n",
      "RangeIndex: 1258 entries, 0 to 1257\n",
      "Data columns (total 6 columns):\n",
      " #   Column  Non-Null Count  Dtype  \n",
      "---  ------  --------------  -----  \n",
      " 0   date    1258 non-null   object \n",
      " 1   close   1258 non-null   float64\n",
      " 2   high    1258 non-null   float64\n",
      " 3   low     1258 non-null   float64\n",
      " 4   open    1258 non-null   float64\n",
      " 5   volume  1258 non-null   int64  \n",
      "dtypes: float64(4), int64(1), object(1)\n",
      "memory usage: 59.1+ KB\n"
     ]
    }
   ],
   "source": [
    "google_stock_data.info()"
   ]
  },
  {
   "cell_type": "code",
   "execution_count": 5,
   "id": "842eee19",
   "metadata": {},
   "outputs": [
    {
     "data": {
      "text/plain": [
       "(1258, 6)"
      ]
     },
     "execution_count": 5,
     "metadata": {},
     "output_type": "execute_result"
    }
   ],
   "source": [
    "google_stock_data.shape"
   ]
  },
  {
   "cell_type": "code",
   "execution_count": 6,
   "id": "b463c5a6",
   "metadata": {},
   "outputs": [],
   "source": [
    "training_data = google_stock_data.iloc[:, 1:2]"
   ]
  },
  {
   "cell_type": "code",
   "execution_count": 7,
   "id": "26c65ded",
   "metadata": {},
   "outputs": [
    {
     "data": {
      "text/plain": [
       "(1258, 1)"
      ]
     },
     "execution_count": 7,
     "metadata": {},
     "output_type": "execute_result"
    }
   ],
   "source": [
    "training_data.shape"
   ]
  },
  {
   "cell_type": "code",
   "execution_count": 8,
   "id": "2a3e5c30",
   "metadata": {},
   "outputs": [
    {
     "data": {
      "text/plain": [
       "(1258, 1)"
      ]
     },
     "execution_count": 8,
     "metadata": {},
     "output_type": "execute_result"
    }
   ],
   "source": [
    "mm = MinMaxScaler(feature_range = (0, 1))\n",
    "training_data_scaled = mm.fit_transform(training_data)\n",
    "training_data_scaled.shape"
   ]
  },
  {
   "cell_type": "code",
   "execution_count": 9,
   "id": "79f1063f",
   "metadata": {},
   "outputs": [
    {
     "name": "stdout",
     "output_type": "stream",
     "text": [
      "(1198, 1)\n",
      "(1198, 1)\n"
     ]
    }
   ],
   "source": [
    "x_train = training_data_scaled[59:1257]\n",
    "y_train = training_data_scaled[60:1258]\n",
    "print(x_train.shape)\n",
    "print(y_train.shape)"
   ]
  },
  {
   "cell_type": "code",
   "execution_count": 10,
   "id": "94910d5f",
   "metadata": {},
   "outputs": [
    {
     "name": "stdout",
     "output_type": "stream",
     "text": [
      "Epoch 1/100\n",
      "38/38 [==============================] - 13s 15ms/step - loss: 0.0939 - mean_absolute_error: 0.2310\n",
      "Epoch 2/100\n",
      "38/38 [==============================] - 1s 14ms/step - loss: 0.0344 - mean_absolute_error: 0.1432\n",
      "Epoch 3/100\n",
      "38/38 [==============================] - 1s 15ms/step - loss: 0.0143 - mean_absolute_error: 0.0938\n",
      "Epoch 4/100\n",
      "38/38 [==============================] - 1s 14ms/step - loss: 0.0040 - mean_absolute_error: 0.0445\n",
      "Epoch 5/100\n",
      "38/38 [==============================] - 1s 14ms/step - loss: 0.0035 - mean_absolute_error: 0.0425\n",
      "Epoch 6/100\n",
      "38/38 [==============================] - 1s 16ms/step - loss: 0.0029 - mean_absolute_error: 0.0380\n",
      "Epoch 7/100\n",
      "38/38 [==============================] - 1s 16ms/step - loss: 0.0027 - mean_absolute_error: 0.0360\n",
      "Epoch 8/100\n",
      "38/38 [==============================] - 1s 15ms/step - loss: 0.0026 - mean_absolute_error: 0.0354\n",
      "Epoch 9/100\n",
      "38/38 [==============================] - 1s 14ms/step - loss: 0.0025 - mean_absolute_error: 0.0320\n",
      "Epoch 10/100\n",
      "38/38 [==============================] - 1s 14ms/step - loss: 0.0019 - mean_absolute_error: 0.0297\n",
      "Epoch 11/100\n",
      "38/38 [==============================] - 1s 14ms/step - loss: 0.0023 - mean_absolute_error: 0.0312\n",
      "Epoch 12/100\n",
      "38/38 [==============================] - 1s 14ms/step - loss: 0.0022 - mean_absolute_error: 0.0293\n",
      "Epoch 13/100\n",
      "38/38 [==============================] - 1s 14ms/step - loss: 0.0018 - mean_absolute_error: 0.0269\n",
      "Epoch 14/100\n",
      "38/38 [==============================] - 1s 14ms/step - loss: 0.0017 - mean_absolute_error: 0.0269\n",
      "Epoch 15/100\n",
      "38/38 [==============================] - 1s 13ms/step - loss: 0.0017 - mean_absolute_error: 0.0270\n",
      "Epoch 16/100\n",
      "38/38 [==============================] - 1s 13ms/step - loss: 0.0016 - mean_absolute_error: 0.0259\n",
      "Epoch 17/100\n",
      "38/38 [==============================] - 1s 13ms/step - loss: 0.0014 - mean_absolute_error: 0.0254\n",
      "Epoch 18/100\n",
      "38/38 [==============================] - 0s 13ms/step - loss: 0.0016 - mean_absolute_error: 0.0258\n",
      "Epoch 19/100\n",
      "38/38 [==============================] - 1s 13ms/step - loss: 0.0014 - mean_absolute_error: 0.0250\n",
      "Epoch 20/100\n",
      "38/38 [==============================] - 1s 14ms/step - loss: 0.0015 - mean_absolute_error: 0.0253\n",
      "Epoch 21/100\n",
      "38/38 [==============================] - 1s 13ms/step - loss: 0.0012 - mean_absolute_error: 0.0232\n",
      "Epoch 22/100\n",
      "38/38 [==============================] - 1s 13ms/step - loss: 0.0014 - mean_absolute_error: 0.0243\n",
      "Epoch 23/100\n",
      "38/38 [==============================] - 1s 14ms/step - loss: 0.0013 - mean_absolute_error: 0.0239\n",
      "Epoch 24/100\n",
      "38/38 [==============================] - 1s 14ms/step - loss: 0.0014 - mean_absolute_error: 0.0243\n",
      "Epoch 25/100\n",
      "38/38 [==============================] - 1s 13ms/step - loss: 0.0013 - mean_absolute_error: 0.0242\n",
      "Epoch 26/100\n",
      "38/38 [==============================] - 1s 14ms/step - loss: 0.0013 - mean_absolute_error: 0.0245\n",
      "Epoch 27/100\n",
      "38/38 [==============================] - 1s 13ms/step - loss: 0.0013 - mean_absolute_error: 0.0238\n",
      "Epoch 28/100\n",
      "38/38 [==============================] - 1s 14ms/step - loss: 0.0013 - mean_absolute_error: 0.0245\n",
      "Epoch 29/100\n",
      "38/38 [==============================] - 1s 13ms/step - loss: 0.0014 - mean_absolute_error: 0.0253\n",
      "Epoch 30/100\n",
      "38/38 [==============================] - 1s 15ms/step - loss: 0.0014 - mean_absolute_error: 0.0246\n",
      "Epoch 31/100\n",
      "38/38 [==============================] - 1s 14ms/step - loss: 0.0013 - mean_absolute_error: 0.0247\n",
      "Epoch 32/100\n",
      "38/38 [==============================] - 1s 13ms/step - loss: 0.0012 - mean_absolute_error: 0.0239\n",
      "Epoch 33/100\n",
      "38/38 [==============================] - 1s 14ms/step - loss: 0.0014 - mean_absolute_error: 0.0254\n",
      "Epoch 34/100\n",
      "38/38 [==============================] - 1s 13ms/step - loss: 0.0012 - mean_absolute_error: 0.0241\n",
      "Epoch 35/100\n",
      "38/38 [==============================] - 1s 13ms/step - loss: 0.0010 - mean_absolute_error: 0.0224\n",
      "Epoch 36/100\n",
      "38/38 [==============================] - 0s 13ms/step - loss: 0.0013 - mean_absolute_error: 0.0247\n",
      "Epoch 37/100\n",
      "38/38 [==============================] - 1s 13ms/step - loss: 0.0012 - mean_absolute_error: 0.0235\n",
      "Epoch 38/100\n",
      "38/38 [==============================] - 0s 13ms/step - loss: 0.0013 - mean_absolute_error: 0.0240\n",
      "Epoch 39/100\n",
      "38/38 [==============================] - 0s 13ms/step - loss: 0.0012 - mean_absolute_error: 0.0239\n",
      "Epoch 40/100\n",
      "38/38 [==============================] - 0s 13ms/step - loss: 0.0013 - mean_absolute_error: 0.0240\n",
      "Epoch 41/100\n",
      "38/38 [==============================] - 0s 13ms/step - loss: 0.0011 - mean_absolute_error: 0.0223\n",
      "Epoch 42/100\n",
      "38/38 [==============================] - 0s 13ms/step - loss: 0.0013 - mean_absolute_error: 0.0236\n",
      "Epoch 43/100\n",
      "38/38 [==============================] - 1s 13ms/step - loss: 0.0012 - mean_absolute_error: 0.0237\n",
      "Epoch 44/100\n",
      "38/38 [==============================] - 0s 13ms/step - loss: 0.0011 - mean_absolute_error: 0.0229\n",
      "Epoch 45/100\n",
      "38/38 [==============================] - 0s 12ms/step - loss: 0.0012 - mean_absolute_error: 0.0230\n",
      "Epoch 46/100\n",
      "38/38 [==============================] - 0s 12ms/step - loss: 0.0012 - mean_absolute_error: 0.0234\n",
      "Epoch 47/100\n",
      "38/38 [==============================] - 0s 12ms/step - loss: 0.0012 - mean_absolute_error: 0.0240\n",
      "Epoch 48/100\n",
      "38/38 [==============================] - 0s 12ms/step - loss: 0.0011 - mean_absolute_error: 0.0226\n",
      "Epoch 49/100\n",
      "38/38 [==============================] - 0s 12ms/step - loss: 0.0011 - mean_absolute_error: 0.0227\n",
      "Epoch 50/100\n",
      "38/38 [==============================] - 0s 12ms/step - loss: 0.0012 - mean_absolute_error: 0.0230\n",
      "Epoch 51/100\n",
      "38/38 [==============================] - 0s 12ms/step - loss: 0.0012 - mean_absolute_error: 0.0231\n",
      "Epoch 52/100\n",
      "38/38 [==============================] - 0s 12ms/step - loss: 0.0012 - mean_absolute_error: 0.0238\n",
      "Epoch 53/100\n",
      "38/38 [==============================] - 0s 12ms/step - loss: 0.0011 - mean_absolute_error: 0.0230\n",
      "Epoch 54/100\n",
      "38/38 [==============================] - 0s 13ms/step - loss: 0.0010 - mean_absolute_error: 0.0219\n",
      "Epoch 55/100\n",
      "38/38 [==============================] - 0s 13ms/step - loss: 0.0011 - mean_absolute_error: 0.0224\n",
      "Epoch 56/100\n",
      "38/38 [==============================] - 0s 12ms/step - loss: 0.0012 - mean_absolute_error: 0.0220\n",
      "Epoch 57/100\n",
      "38/38 [==============================] - 0s 12ms/step - loss: 0.0011 - mean_absolute_error: 0.0226\n",
      "Epoch 58/100\n",
      "38/38 [==============================] - 0s 13ms/step - loss: 0.0011 - mean_absolute_error: 0.0214\n",
      "Epoch 59/100\n",
      "38/38 [==============================] - 0s 12ms/step - loss: 0.0010 - mean_absolute_error: 0.0219\n",
      "Epoch 60/100\n",
      "38/38 [==============================] - 0s 13ms/step - loss: 9.8630e-04 - mean_absolute_error: 0.0219\n",
      "Epoch 61/100\n",
      "38/38 [==============================] - 0s 12ms/step - loss: 8.8729e-04 - mean_absolute_error: 0.0209\n",
      "Epoch 62/100\n",
      "38/38 [==============================] - 0s 13ms/step - loss: 0.0011 - mean_absolute_error: 0.0216\n",
      "Epoch 63/100\n",
      "38/38 [==============================] - 0s 12ms/step - loss: 0.0010 - mean_absolute_error: 0.0216\n",
      "Epoch 64/100\n",
      "38/38 [==============================] - 0s 12ms/step - loss: 0.0012 - mean_absolute_error: 0.0233\n",
      "Epoch 65/100\n",
      "38/38 [==============================] - 0s 12ms/step - loss: 0.0011 - mean_absolute_error: 0.0216\n",
      "Epoch 66/100\n",
      "38/38 [==============================] - 0s 12ms/step - loss: 0.0011 - mean_absolute_error: 0.0215\n",
      "Epoch 67/100\n",
      "38/38 [==============================] - 0s 13ms/step - loss: 0.0010 - mean_absolute_error: 0.0217\n",
      "Epoch 68/100\n",
      "38/38 [==============================] - 0s 13ms/step - loss: 9.0183e-04 - mean_absolute_error: 0.0208\n",
      "Epoch 69/100\n",
      "38/38 [==============================] - 0s 13ms/step - loss: 0.0011 - mean_absolute_error: 0.0223\n",
      "Epoch 70/100\n",
      "38/38 [==============================] - 0s 12ms/step - loss: 9.7219e-04 - mean_absolute_error: 0.0212\n",
      "Epoch 71/100\n",
      "38/38 [==============================] - 0s 13ms/step - loss: 0.0010 - mean_absolute_error: 0.0214\n",
      "Epoch 72/100\n",
      "38/38 [==============================] - 0s 13ms/step - loss: 9.9655e-04 - mean_absolute_error: 0.0215\n",
      "Epoch 73/100\n",
      "38/38 [==============================] - 1s 13ms/step - loss: 0.0010 - mean_absolute_error: 0.0212\n",
      "Epoch 74/100\n",
      "38/38 [==============================] - 0s 13ms/step - loss: 0.0011 - mean_absolute_error: 0.0228\n",
      "Epoch 75/100\n",
      "38/38 [==============================] - 0s 13ms/step - loss: 0.0011 - mean_absolute_error: 0.0221\n",
      "Epoch 76/100\n",
      "38/38 [==============================] - 0s 13ms/step - loss: 0.0010 - mean_absolute_error: 0.0211\n",
      "Epoch 77/100\n",
      "38/38 [==============================] - 0s 13ms/step - loss: 9.1519e-04 - mean_absolute_error: 0.0215\n",
      "Epoch 78/100\n",
      "38/38 [==============================] - 0s 13ms/step - loss: 9.1031e-04 - mean_absolute_error: 0.0213\n",
      "Epoch 79/100\n",
      "38/38 [==============================] - 0s 12ms/step - loss: 0.0011 - mean_absolute_error: 0.0221\n",
      "Epoch 80/100\n",
      "38/38 [==============================] - 0s 13ms/step - loss: 9.8184e-04 - mean_absolute_error: 0.0211\n",
      "Epoch 81/100\n",
      "38/38 [==============================] - 0s 12ms/step - loss: 0.0010 - mean_absolute_error: 0.0213\n",
      "Epoch 82/100\n",
      "38/38 [==============================] - 0s 13ms/step - loss: 0.0011 - mean_absolute_error: 0.0214\n",
      "Epoch 83/100\n",
      "38/38 [==============================] - 0s 13ms/step - loss: 9.9703e-04 - mean_absolute_error: 0.0215\n",
      "Epoch 84/100\n",
      "38/38 [==============================] - 0s 13ms/step - loss: 9.2996e-04 - mean_absolute_error: 0.0208\n",
      "Epoch 85/100\n",
      "38/38 [==============================] - 1s 14ms/step - loss: 0.0011 - mean_absolute_error: 0.0215\n",
      "Epoch 86/100\n",
      "38/38 [==============================] - 1s 13ms/step - loss: 8.7248e-04 - mean_absolute_error: 0.0204\n",
      "Epoch 87/100\n",
      "38/38 [==============================] - 1s 13ms/step - loss: 0.0011 - mean_absolute_error: 0.0224\n",
      "Epoch 88/100\n",
      "38/38 [==============================] - 1s 14ms/step - loss: 0.0010 - mean_absolute_error: 0.0213\n",
      "Epoch 89/100\n",
      "38/38 [==============================] - 1s 14ms/step - loss: 0.0010 - mean_absolute_error: 0.0211\n",
      "Epoch 90/100\n",
      "38/38 [==============================] - 1s 14ms/step - loss: 0.0011 - mean_absolute_error: 0.0222\n",
      "Epoch 91/100\n",
      "38/38 [==============================] - 1s 14ms/step - loss: 0.0010 - mean_absolute_error: 0.0221\n",
      "Epoch 92/100\n",
      "38/38 [==============================] - 1s 13ms/step - loss: 0.0010 - mean_absolute_error: 0.0218\n",
      "Epoch 93/100\n",
      "38/38 [==============================] - 0s 13ms/step - loss: 0.0011 - mean_absolute_error: 0.0216\n",
      "Epoch 94/100\n",
      "38/38 [==============================] - 1s 13ms/step - loss: 9.2457e-04 - mean_absolute_error: 0.0214\n",
      "Epoch 95/100\n",
      "38/38 [==============================] - 1s 14ms/step - loss: 9.5326e-04 - mean_absolute_error: 0.0216\n",
      "Epoch 96/100\n",
      "38/38 [==============================] - 0s 13ms/step - loss: 0.0011 - mean_absolute_error: 0.0221\n",
      "Epoch 97/100\n",
      "38/38 [==============================] - 0s 13ms/step - loss: 9.5724e-04 - mean_absolute_error: 0.0211\n",
      "Epoch 98/100\n",
      "38/38 [==============================] - 0s 13ms/step - loss: 0.0010 - mean_absolute_error: 0.0216\n",
      "Epoch 99/100\n",
      "38/38 [==============================] - 1s 13ms/step - loss: 0.0010 - mean_absolute_error: 0.0210\n",
      "Epoch 100/100\n",
      "38/38 [==============================] - 0s 13ms/step - loss: 0.0011 - mean_absolute_error: 0.0212\n"
     ]
    },
    {
     "data": {
      "text/plain": [
       "<keras.callbacks.History at 0x20b7c4adae0>"
      ]
     },
     "execution_count": 10,
     "metadata": {},
     "output_type": "execute_result"
    }
   ],
   "source": [
    "model = Sequential()\n",
    "model.add(LSTM(units=50,return_sequences=True,input_shape=(x_train.shape[1], 1)))\n",
    "model.add(Dropout(0.2))\n",
    "model.add(LSTM(units=50,return_sequences=True))\n",
    "model.add(Dropout(0.2))\n",
    "model.add(LSTM(units=50,return_sequences=True))\n",
    "model.add(Dropout(0.2))\n",
    "model.add(LSTM(units=50))\n",
    "model.add(Dropout(0.2))\n",
    "model.add(Dense(units=1))\n",
    "model.compile(loss='mean_squared_error', optimizer='adam', metrics=['mean_absolute_error'])\n",
    "model.fit(x_train,y_train,epochs=100,batch_size=32)"
   ]
  },
  {
   "cell_type": "code",
   "execution_count": 11,
   "id": "2877a95d",
   "metadata": {},
   "outputs": [
    {
     "data": {
      "text/plain": [
       "array([[ 718.27],\n",
       "       [ 718.92],\n",
       "       [ 710.36],\n",
       "       ...,\n",
       "       [2491.4 ],\n",
       "       [2521.6 ],\n",
       "       [2513.93]])"
      ]
     },
     "execution_count": 11,
     "metadata": {},
     "output_type": "execute_result"
    }
   ],
   "source": [
    "dataset_test = pd.read_csv(\"GOOG.csv\")\n",
    "real_stock_price = dataset_test.iloc[:, 1:2].values\n",
    "real_stock_price"
   ]
  },
  {
   "cell_type": "code",
   "execution_count": 12,
   "id": "edd90b88",
   "metadata": {},
   "outputs": [
    {
     "data": {
      "text/plain": [
       "(1258, 1)"
      ]
     },
     "execution_count": 12,
     "metadata": {},
     "output_type": "execute_result"
    }
   ],
   "source": [
    "mm = MinMaxScaler(feature_range = (0, 1))\n",
    "testing_data_scaled = mm.fit_transform(real_stock_price)\n",
    "testing_data_scaled.shape"
   ]
  },
  {
   "cell_type": "code",
   "execution_count": 13,
   "id": "9a52c039",
   "metadata": {},
   "outputs": [
    {
     "name": "stdout",
     "output_type": "stream",
     "text": [
      "(228, 1)\n",
      "(228, 1)\n"
     ]
    }
   ],
   "source": [
    "x_test = training_data_scaled[29:257]\n",
    "y_test = training_data_scaled[30:258]\n",
    "print(x_test.shape)\n",
    "print(y_test.shape)"
   ]
  },
  {
   "cell_type": "code",
   "execution_count": 14,
   "id": "9b632f8f",
   "metadata": {},
   "outputs": [
    {
     "name": "stdout",
     "output_type": "stream",
     "text": [
      "8/8 [==============================] - 2s 7ms/step - loss: 3.6834e-04 - mean_absolute_error: 0.0181\n"
     ]
    },
    {
     "data": {
      "text/plain": [
       "[0.0003683379618450999, 0.0180567167699337]"
      ]
     },
     "execution_count": 14,
     "metadata": {},
     "output_type": "execute_result"
    }
   ],
   "source": [
    "model.evaluate(x_test,y_test)"
   ]
  },
  {
   "cell_type": "code",
   "execution_count": null,
   "id": "e136138b",
   "metadata": {},
   "outputs": [],
   "source": []
  },
  {
   "cell_type": "code",
   "execution_count": null,
   "id": "802361b6",
   "metadata": {},
   "outputs": [],
   "source": []
  },
  {
   "cell_type": "code",
   "execution_count": null,
   "id": "f1ccd164",
   "metadata": {},
   "outputs": [],
   "source": []
  },
  {
   "cell_type": "code",
   "execution_count": null,
   "id": "1a9838e9",
   "metadata": {},
   "outputs": [],
   "source": []
  }
 ],
 "metadata": {
  "kernelspec": {
   "display_name": "Python 3 (ipykernel)",
   "language": "python",
   "name": "python3"
  },
  "language_info": {
   "codemirror_mode": {
    "name": "ipython",
    "version": 3
   },
   "file_extension": ".py",
   "mimetype": "text/x-python",
   "name": "python",
   "nbconvert_exporter": "python",
   "pygments_lexer": "ipython3",
   "version": "3.10.12"
  }
 },
 "nbformat": 4,
 "nbformat_minor": 5
}
